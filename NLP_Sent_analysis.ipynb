{
 "cells": [
  {
   "cell_type": "markdown",
   "id": "70152e19",
   "metadata": {},
   "source": [
    "# Loading Libraries"
   ]
  },
  {
   "cell_type": "code",
   "execution_count": 1,
   "id": "49e82ee2",
   "metadata": {},
   "outputs": [],
   "source": [
    "%matplotlib inline\n",
    "import pandas as pd\n",
    "import numpy as np\n",
    "from matplotlib import pyplot as plt\n",
    "from matplotlib.pyplot import figure\n",
    "import seaborn as sn\n",
    "from azureml.core import Workspace, Dataset"
   ]
  },
  {
   "cell_type": "code",
   "execution_count": 2,
   "id": "41b3839e",
   "metadata": {},
   "outputs": [],
   "source": [
    "# import dataset\n",
    "\n",
    "df = pd.read_csv('Dataset/amazonLabelled - amazonLabelled.csv')"
   ]
  },
  {
   "cell_type": "code",
   "execution_count": 3,
   "id": "b3a503b2",
   "metadata": {},
   "outputs": [
    {
     "data": {
      "text/html": [
       "<div>\n",
       "<style scoped>\n",
       "    .dataframe tbody tr th:only-of-type {\n",
       "        vertical-align: middle;\n",
       "    }\n",
       "\n",
       "    .dataframe tbody tr th {\n",
       "        vertical-align: top;\n",
       "    }\n",
       "\n",
       "    .dataframe thead th {\n",
       "        text-align: right;\n",
       "    }\n",
       "</style>\n",
       "<table border=\"1\" class=\"dataframe\">\n",
       "  <thead>\n",
       "    <tr style=\"text-align: right;\">\n",
       "      <th></th>\n",
       "      <th>S</th>\n",
       "      <th>Feedback</th>\n",
       "      <th>Sentiment</th>\n",
       "    </tr>\n",
       "  </thead>\n",
       "  <tbody>\n",
       "    <tr>\n",
       "      <th>0</th>\n",
       "      <td>1</td>\n",
       "      <td>Good case, Excellent value.</td>\n",
       "      <td>Positive</td>\n",
       "    </tr>\n",
       "    <tr>\n",
       "      <th>1</th>\n",
       "      <td>2</td>\n",
       "      <td>Great for the jawbone.</td>\n",
       "      <td>Positive</td>\n",
       "    </tr>\n",
       "    <tr>\n",
       "      <th>2</th>\n",
       "      <td>3</td>\n",
       "      <td>Tied to charger for conversations lasting more...</td>\n",
       "      <td>Negative</td>\n",
       "    </tr>\n",
       "    <tr>\n",
       "      <th>3</th>\n",
       "      <td>4</td>\n",
       "      <td>The mic is great.</td>\n",
       "      <td>Positive</td>\n",
       "    </tr>\n",
       "    <tr>\n",
       "      <th>4</th>\n",
       "      <td>5</td>\n",
       "      <td>I have to jiggle the plug to get it to line up...</td>\n",
       "      <td>Negative</td>\n",
       "    </tr>\n",
       "  </tbody>\n",
       "</table>\n",
       "</div>"
      ],
      "text/plain": [
       "   S                                           Feedback Sentiment\n",
       "0  1                        Good case, Excellent value.  Positive\n",
       "1  2                             Great for the jawbone.  Positive\n",
       "2  3  Tied to charger for conversations lasting more...  Negative\n",
       "3  4                                  The mic is great.  Positive\n",
       "4  5  I have to jiggle the plug to get it to line up...  Negative"
      ]
     },
     "execution_count": 3,
     "metadata": {},
     "output_type": "execute_result"
    }
   ],
   "source": [
    "df.head()"
   ]
  },
  {
   "cell_type": "code",
   "execution_count": 4,
   "id": "7c19630c",
   "metadata": {},
   "outputs": [
    {
     "data": {
      "text/plain": [
       "(999, 3)"
      ]
     },
     "execution_count": 4,
     "metadata": {},
     "output_type": "execute_result"
    }
   ],
   "source": [
    "df.shape"
   ]
  },
  {
   "cell_type": "code",
   "execution_count": 5,
   "id": "ce941fb1",
   "metadata": {},
   "outputs": [
    {
     "data": {
      "text/plain": [
       "False"
      ]
     },
     "execution_count": 5,
     "metadata": {},
     "output_type": "execute_result"
    }
   ],
   "source": [
    "df.isnull().values.any()"
   ]
  },
  {
   "cell_type": "code",
   "execution_count": 6,
   "id": "d8a469ea",
   "metadata": {},
   "outputs": [
    {
     "data": {
      "text/plain": [
       "Positive    500\n",
       "Negative    499\n",
       "Name: Sentiment, dtype: int64"
      ]
     },
     "execution_count": 6,
     "metadata": {},
     "output_type": "execute_result"
    }
   ],
   "source": [
    "df[\"Sentiment\"].value_counts()"
   ]
  },
  {
   "cell_type": "code",
   "execution_count": 7,
   "id": "7d1cf93e",
   "metadata": {},
   "outputs": [],
   "source": [
    "from sklearn.preprocessing import LabelEncoder"
   ]
  },
  {
   "cell_type": "code",
   "execution_count": 8,
   "id": "215eaddb",
   "metadata": {},
   "outputs": [],
   "source": [
    "lb=LabelEncoder()"
   ]
  },
  {
   "cell_type": "code",
   "execution_count": 9,
   "id": "3a8dcd2c",
   "metadata": {},
   "outputs": [
    {
     "data": {
      "text/plain": [
       "LabelEncoder()"
      ]
     },
     "execution_count": 9,
     "metadata": {},
     "output_type": "execute_result"
    }
   ],
   "source": [
    "lb.fit(df[\"Sentiment\"])"
   ]
  },
  {
   "cell_type": "code",
   "execution_count": 10,
   "id": "6490f874",
   "metadata": {},
   "outputs": [],
   "source": [
    "df[\"Sentiment\"]=lb.transform(df[\"Sentiment\"])"
   ]
  },
  {
   "cell_type": "code",
   "execution_count": 11,
   "id": "82feffc2",
   "metadata": {},
   "outputs": [
    {
     "data": {
      "text/html": [
       "<div>\n",
       "<style scoped>\n",
       "    .dataframe tbody tr th:only-of-type {\n",
       "        vertical-align: middle;\n",
       "    }\n",
       "\n",
       "    .dataframe tbody tr th {\n",
       "        vertical-align: top;\n",
       "    }\n",
       "\n",
       "    .dataframe thead th {\n",
       "        text-align: right;\n",
       "    }\n",
       "</style>\n",
       "<table border=\"1\" class=\"dataframe\">\n",
       "  <thead>\n",
       "    <tr style=\"text-align: right;\">\n",
       "      <th></th>\n",
       "      <th>S</th>\n",
       "      <th>Feedback</th>\n",
       "      <th>Sentiment</th>\n",
       "    </tr>\n",
       "  </thead>\n",
       "  <tbody>\n",
       "    <tr>\n",
       "      <th>0</th>\n",
       "      <td>1</td>\n",
       "      <td>Good case, Excellent value.</td>\n",
       "      <td>1</td>\n",
       "    </tr>\n",
       "    <tr>\n",
       "      <th>1</th>\n",
       "      <td>2</td>\n",
       "      <td>Great for the jawbone.</td>\n",
       "      <td>1</td>\n",
       "    </tr>\n",
       "    <tr>\n",
       "      <th>2</th>\n",
       "      <td>3</td>\n",
       "      <td>Tied to charger for conversations lasting more...</td>\n",
       "      <td>0</td>\n",
       "    </tr>\n",
       "    <tr>\n",
       "      <th>3</th>\n",
       "      <td>4</td>\n",
       "      <td>The mic is great.</td>\n",
       "      <td>1</td>\n",
       "    </tr>\n",
       "    <tr>\n",
       "      <th>4</th>\n",
       "      <td>5</td>\n",
       "      <td>I have to jiggle the plug to get it to line up...</td>\n",
       "      <td>0</td>\n",
       "    </tr>\n",
       "  </tbody>\n",
       "</table>\n",
       "</div>"
      ],
      "text/plain": [
       "   S                                           Feedback  Sentiment\n",
       "0  1                        Good case, Excellent value.          1\n",
       "1  2                             Great for the jawbone.          1\n",
       "2  3  Tied to charger for conversations lasting more...          0\n",
       "3  4                                  The mic is great.          1\n",
       "4  5  I have to jiggle the plug to get it to line up...          0"
      ]
     },
     "execution_count": 11,
     "metadata": {},
     "output_type": "execute_result"
    }
   ],
   "source": [
    "df.head()"
   ]
  },
  {
   "cell_type": "markdown",
   "id": "b0e1d11a",
   "metadata": {},
   "source": [
    "# Train Test Split"
   ]
  },
  {
   "cell_type": "code",
   "execution_count": 13,
   "id": "d79fa91a",
   "metadata": {},
   "outputs": [],
   "source": [
    "from sklearn.model_selection import train_test_split"
   ]
  },
  {
   "cell_type": "code",
   "execution_count": 18,
   "id": "4282b586",
   "metadata": {},
   "outputs": [],
   "source": [
    "X_train,X_test,y_train,y_test=train_test_split(df.drop(\"Sentiment\",axis=1),df[\"Sentiment\"],test_size=0.2)"
   ]
  },
  {
   "cell_type": "code",
   "execution_count": 19,
   "id": "cbb81bf7",
   "metadata": {},
   "outputs": [
    {
     "data": {
      "text/plain": [
       "(799, 2)"
      ]
     },
     "execution_count": 19,
     "metadata": {},
     "output_type": "execute_result"
    }
   ],
   "source": [
    "X_train.shape"
   ]
  },
  {
   "cell_type": "code",
   "execution_count": 44,
   "id": "3d36391b",
   "metadata": {},
   "outputs": [],
   "source": [
    "train_df=pd.concat([X_train,y_train],axis=1).to_csv(\"Dataset/train_set.csv\",index=False)"
   ]
  },
  {
   "cell_type": "code",
   "execution_count": 45,
   "id": "cb7b5b62",
   "metadata": {},
   "outputs": [],
   "source": [
    "test_df=pd.concat([X_test,y_test],axis=1).to_csv(\"Dataset/test_set.csv\",index=False)"
   ]
  },
  {
   "cell_type": "markdown",
   "id": "5c2cf5d4",
   "metadata": {},
   "source": [
    "# Register dataset to the workspace"
   ]
  },
  {
   "cell_type": "code",
   "execution_count": 26,
   "id": "5c087aa8",
   "metadata": {},
   "outputs": [],
   "source": [
    "subscription_id = 'b34c1109-5941-40da-be9e-960b4f30511d'\n",
    "resource_group = 'Learn_MLOps'\n",
    "workspace_name = 'MLOps_WS'"
   ]
  },
  {
   "cell_type": "code",
   "execution_count": 27,
   "id": "897f9b0c",
   "metadata": {},
   "outputs": [],
   "source": [
    "workspace = Workspace(subscription_id, resource_group, workspace_name)"
   ]
  },
  {
   "cell_type": "code",
   "execution_count": 28,
   "id": "09fc87e5",
   "metadata": {},
   "outputs": [],
   "source": [
    "# get the datastore to upload prepared data\n",
    "datastore = workspace.get_default_datastore()"
   ]
  },
  {
   "cell_type": "code",
   "execution_count": 46,
   "id": "9b81f5ef",
   "metadata": {},
   "outputs": [
    {
     "name": "stdout",
     "output_type": "stream",
     "text": [
      "Uploading an estimated of 3 files\n",
      "Uploading Dataset/amazonLabelled - amazonLabelled.csv\n",
      "Uploaded Dataset/amazonLabelled - amazonLabelled.csv, 1 files out of an estimated total of 3\n",
      "Uploading Dataset/test_set.csv\n",
      "Uploaded Dataset/test_set.csv, 2 files out of an estimated total of 3\n",
      "Uploading Dataset/train_set.csv\n",
      "Uploaded Dataset/train_set.csv, 3 files out of an estimated total of 3\n",
      "Uploaded 3 files\n"
     ]
    },
    {
     "data": {
      "text/plain": [
       "$AZUREML_DATAREFERENCE_c6f34be1d5c64a8cafedee3e6f004d71"
      ]
     },
     "execution_count": 46,
     "metadata": {},
     "output_type": "execute_result"
    }
   ],
   "source": [
    "# upload the local file from src_dir to the target_path in datastore\n",
    "datastore.upload(src_dir='Dataset', target_path='nlpdata')"
   ]
  },
  {
   "cell_type": "code",
   "execution_count": 47,
   "id": "95fe74c8",
   "metadata": {},
   "outputs": [],
   "source": [
    "train_dataset = Dataset.Tabular.from_delimited_files(datastore.path('nlpdata/train_set.csv'))"
   ]
  },
  {
   "cell_type": "code",
   "execution_count": 48,
   "id": "b93bf8e2",
   "metadata": {},
   "outputs": [],
   "source": [
    "test_dataset = Dataset.Tabular.from_delimited_files(datastore.path('nlpdata/test_set.csv'))"
   ]
  },
  {
   "cell_type": "code",
   "execution_count": 49,
   "id": "58a4e605",
   "metadata": {},
   "outputs": [],
   "source": [
    "train_ds = train_dataset.register(workspace=workspace,\n",
    "                                 name='nlp_train_set',\n",
    "                                 description='Training data for nlp usecase')"
   ]
  },
  {
   "cell_type": "code",
   "execution_count": 50,
   "id": "83e958d6",
   "metadata": {},
   "outputs": [],
   "source": [
    "test_ds = test_dataset.register(workspace=workspace,\n",
    "                                 name='nlp_test_set',\n",
    "                                 description='Test data for nlp usecase')"
   ]
  },
  {
   "cell_type": "markdown",
   "id": "0dfbd225",
   "metadata": {},
   "source": [
    "# Data ingestion step - Training dataset"
   ]
  },
  {
   "cell_type": "code",
   "execution_count": 51,
   "id": "007993e9",
   "metadata": {},
   "outputs": [
    {
     "name": "stdout",
     "output_type": "stream",
     "text": [
      "nlp_train_set 1\n"
     ]
    }
   ],
   "source": [
    "dataset = Dataset.get_by_name(workspace, name='nlp_train_set')\n",
    "print(dataset.name, dataset.version)"
   ]
  },
  {
   "cell_type": "code",
   "execution_count": 52,
   "id": "bbb58cc0",
   "metadata": {},
   "outputs": [],
   "source": [
    "df = dataset.to_pandas_dataframe()"
   ]
  },
  {
   "cell_type": "code",
   "execution_count": 53,
   "id": "4a13fbed",
   "metadata": {},
   "outputs": [
    {
     "data": {
      "text/html": [
       "<div>\n",
       "<style scoped>\n",
       "    .dataframe tbody tr th:only-of-type {\n",
       "        vertical-align: middle;\n",
       "    }\n",
       "\n",
       "    .dataframe tbody tr th {\n",
       "        vertical-align: top;\n",
       "    }\n",
       "\n",
       "    .dataframe thead th {\n",
       "        text-align: right;\n",
       "    }\n",
       "</style>\n",
       "<table border=\"1\" class=\"dataframe\">\n",
       "  <thead>\n",
       "    <tr style=\"text-align: right;\">\n",
       "      <th></th>\n",
       "      <th>S</th>\n",
       "      <th>Feedback</th>\n",
       "      <th>Sentiment</th>\n",
       "    </tr>\n",
       "  </thead>\n",
       "  <tbody>\n",
       "    <tr>\n",
       "      <th>0</th>\n",
       "      <td>173</td>\n",
       "      <td>The iGo chargers and tips are really great.</td>\n",
       "      <td>1</td>\n",
       "    </tr>\n",
       "    <tr>\n",
       "      <th>1</th>\n",
       "      <td>846</td>\n",
       "      <td>Used and dirty.</td>\n",
       "      <td>0</td>\n",
       "    </tr>\n",
       "    <tr>\n",
       "      <th>2</th>\n",
       "      <td>639</td>\n",
       "      <td>Disappointing accessory from a good manufacturer.</td>\n",
       "      <td>0</td>\n",
       "    </tr>\n",
       "    <tr>\n",
       "      <th>3</th>\n",
       "      <td>435</td>\n",
       "      <td>Warning - Stay away.</td>\n",
       "      <td>0</td>\n",
       "    </tr>\n",
       "    <tr>\n",
       "      <th>4</th>\n",
       "      <td>88</td>\n",
       "      <td>Product was excellent and works better than th...</td>\n",
       "      <td>1</td>\n",
       "    </tr>\n",
       "  </tbody>\n",
       "</table>\n",
       "</div>"
      ],
      "text/plain": [
       "     S                                           Feedback  Sentiment\n",
       "0  173        The iGo chargers and tips are really great.          1\n",
       "1  846                                    Used and dirty.          0\n",
       "2  639  Disappointing accessory from a good manufacturer.          0\n",
       "3  435                               Warning - Stay away.          0\n",
       "4   88  Product was excellent and works better than th...          1"
      ]
     },
     "execution_count": 53,
     "metadata": {},
     "output_type": "execute_result"
    }
   ],
   "source": [
    "df.head()"
   ]
  },
  {
   "cell_type": "code",
   "execution_count": 54,
   "id": "47698bed",
   "metadata": {},
   "outputs": [
    {
     "data": {
      "text/plain": [
       "(799, 3)"
      ]
     },
     "execution_count": 54,
     "metadata": {},
     "output_type": "execute_result"
    }
   ],
   "source": [
    "df.shape"
   ]
  },
  {
   "cell_type": "markdown",
   "id": "0498da1e",
   "metadata": {},
   "source": [
    "# Preprocessing Data"
   ]
  },
  {
   "cell_type": "code",
   "execution_count": 60,
   "id": "be70e492",
   "metadata": {},
   "outputs": [],
   "source": [
    "from sklearn.feature_extraction.text import CountVectorizer"
   ]
  },
  {
   "cell_type": "code",
   "execution_count": 62,
   "id": "310726ce",
   "metadata": {},
   "outputs": [],
   "source": [
    "cv=CountVectorizer(stop_words=\"english\",ngram_range=(1,2))"
   ]
  },
  {
   "cell_type": "code",
   "execution_count": 63,
   "id": "75672190",
   "metadata": {},
   "outputs": [
    {
     "data": {
      "text/plain": [
       "CountVectorizer(analyzer='word', binary=False, decode_error='strict',\n",
       "                dtype=<class 'numpy.int64'>, encoding='utf-8', input='content',\n",
       "                lowercase=True, max_df=1.0, max_features=None, min_df=1,\n",
       "                ngram_range=(1, 2), preprocessor=None, stop_words='english',\n",
       "                strip_accents=None, token_pattern='(?u)\\\\b\\\\w\\\\w+\\\\b',\n",
       "                tokenizer=None, vocabulary=None)"
      ]
     },
     "execution_count": 63,
     "metadata": {},
     "output_type": "execute_result"
    }
   ],
   "source": [
    "cv.fit(df[\"Feedback\"])"
   ]
  },
  {
   "cell_type": "code",
   "execution_count": 64,
   "id": "23f50c96",
   "metadata": {},
   "outputs": [],
   "source": [
    "corpus=cv.transform(df[\"Feedback\"])"
   ]
  },
  {
   "cell_type": "code",
   "execution_count": 66,
   "id": "3328dec4",
   "metadata": {},
   "outputs": [
    {
     "data": {
      "text/plain": [
       "(799, 4234)"
      ]
     },
     "execution_count": 66,
     "metadata": {},
     "output_type": "execute_result"
    }
   ],
   "source": [
    "corpus.shape"
   ]
  },
  {
   "cell_type": "markdown",
   "id": "28d568cf",
   "metadata": {},
   "source": [
    "# Creating experiment and run to log metrics and hypermeters"
   ]
  },
  {
   "cell_type": "code",
   "execution_count": 109,
   "id": "2e895ed0",
   "metadata": {},
   "outputs": [],
   "source": [
    "from azureml.core.experiment import Experiment\n",
    "myexperiment = Experiment(workspace, \"rf_sent_analysis\")\n",
    "# initialize a run in Azureml\n",
    "run = myexperiment.start_logging()"
   ]
  },
  {
   "cell_type": "code",
   "execution_count": 110,
   "id": "03864e24",
   "metadata": {},
   "outputs": [],
   "source": [
    "run.log(\"dataset name\", dataset.name)\n",
    "run.log(\"dataset Version\", dataset.version)"
   ]
  },
  {
   "cell_type": "markdown",
   "id": "5bf136d9",
   "metadata": {},
   "source": [
    "# Model Training"
   ]
  },
  {
   "cell_type": "code",
   "execution_count": 67,
   "id": "dbe4c033",
   "metadata": {},
   "outputs": [],
   "source": [
    "from sklearn.ensemble import RandomForestClassifier"
   ]
  },
  {
   "cell_type": "code",
   "execution_count": 68,
   "id": "56241bf4",
   "metadata": {},
   "outputs": [],
   "source": [
    "rf=RandomForestClassifier()"
   ]
  },
  {
   "cell_type": "code",
   "execution_count": 70,
   "id": "4af5b511",
   "metadata": {},
   "outputs": [
    {
     "data": {
      "text/plain": [
       "RandomForestClassifier(bootstrap=True, ccp_alpha=0.0, class_weight=None,\n",
       "                       criterion='gini', max_depth=None, max_features='auto',\n",
       "                       max_leaf_nodes=None, max_samples=None,\n",
       "                       min_impurity_decrease=0.0, min_impurity_split=None,\n",
       "                       min_samples_leaf=1, min_samples_split=2,\n",
       "                       min_weight_fraction_leaf=0.0, n_estimators=100,\n",
       "                       n_jobs=None, oob_score=False, random_state=None,\n",
       "                       verbose=0, warm_start=False)"
      ]
     },
     "execution_count": 70,
     "metadata": {},
     "output_type": "execute_result"
    }
   ],
   "source": [
    "rf.fit(corpus,df[\"Sentiment\"])"
   ]
  },
  {
   "cell_type": "code",
   "execution_count": 71,
   "id": "e67a6cd2",
   "metadata": {},
   "outputs": [
    {
     "data": {
      "text/plain": [
       "0.9962453066332916"
      ]
     },
     "execution_count": 71,
     "metadata": {},
     "output_type": "execute_result"
    }
   ],
   "source": [
    "rf.score(corpus,df[\"Sentiment\"])"
   ]
  },
  {
   "cell_type": "code",
   "execution_count": 72,
   "id": "b0962dce",
   "metadata": {},
   "outputs": [],
   "source": [
    "from sklearn.model_selection import cross_val_score"
   ]
  },
  {
   "cell_type": "code",
   "execution_count": 73,
   "id": "a5f20ee0",
   "metadata": {},
   "outputs": [],
   "source": [
    "scores=cross_val_score(rf,corpus,df[\"Sentiment\"],cv=3)"
   ]
  },
  {
   "cell_type": "code",
   "execution_count": 74,
   "id": "2ad4bba3",
   "metadata": {},
   "outputs": [
    {
     "data": {
      "text/plain": [
       "0.758445739817709"
      ]
     },
     "execution_count": 74,
     "metadata": {},
     "output_type": "execute_result"
    }
   ],
   "source": [
    "scores.mean()"
   ]
  },
  {
   "cell_type": "code",
   "execution_count": 75,
   "id": "5989db7a",
   "metadata": {},
   "outputs": [
    {
     "data": {
      "text/plain": [
       "0.002018405024948868"
      ]
     },
     "execution_count": 75,
     "metadata": {},
     "output_type": "execute_result"
    }
   ],
   "source": [
    "scores.std()"
   ]
  },
  {
   "cell_type": "markdown",
   "id": "cb3acb87",
   "metadata": {},
   "source": [
    "# Hyperparameter Tuning"
   ]
  },
  {
   "cell_type": "code",
   "execution_count": 76,
   "id": "4a1ac538",
   "metadata": {},
   "outputs": [],
   "source": [
    "from sklearn.model_selection import GridSearchCV"
   ]
  },
  {
   "cell_type": "code",
   "execution_count": 100,
   "id": "f48bbbef",
   "metadata": {},
   "outputs": [],
   "source": [
    "param_grid={'n_estimators': [100, 400,700,1000,2000,2500], 'min_samples_split': [2,4,8,16]}"
   ]
  },
  {
   "cell_type": "code",
   "execution_count": 101,
   "id": "26b8122f",
   "metadata": {},
   "outputs": [],
   "source": [
    "grid=GridSearchCV(rf,param_grid,n_jobs=-1)"
   ]
  },
  {
   "cell_type": "code",
   "execution_count": 102,
   "id": "8ed5119f",
   "metadata": {},
   "outputs": [
    {
     "data": {
      "text/plain": [
       "GridSearchCV(cv=None, error_score=nan,\n",
       "             estimator=RandomForestClassifier(bootstrap=True, ccp_alpha=0.0,\n",
       "                                              class_weight=None,\n",
       "                                              criterion='gini', max_depth=None,\n",
       "                                              max_features='auto',\n",
       "                                              max_leaf_nodes=None,\n",
       "                                              max_samples=None,\n",
       "                                              min_impurity_decrease=0.0,\n",
       "                                              min_impurity_split=None,\n",
       "                                              min_samples_leaf=1,\n",
       "                                              min_samples_split=2,\n",
       "                                              min_weight_fraction_leaf=0.0,\n",
       "                                              n_estimators=100, n_jobs=None,\n",
       "                                              oob_score=False,\n",
       "                                              random_state=None, verbose=0,\n",
       "                                              warm_start=False),\n",
       "             iid='deprecated', n_jobs=-1,\n",
       "             param_grid={'min_samples_split': [2, 4, 8, 16],\n",
       "                         'n_estimators': [100, 400, 700, 1000, 2000, 2500]},\n",
       "             pre_dispatch='2*n_jobs', refit=True, return_train_score=False,\n",
       "             scoring=None, verbose=0)"
      ]
     },
     "execution_count": 102,
     "metadata": {},
     "output_type": "execute_result"
    }
   ],
   "source": [
    "grid.fit(corpus,df[\"Sentiment\"])"
   ]
  },
  {
   "cell_type": "code",
   "execution_count": 105,
   "id": "a7661626",
   "metadata": {},
   "outputs": [],
   "source": [
    "n_est=grid.get_params(deep=True)['estimator__n_estimators']"
   ]
  },
  {
   "cell_type": "code",
   "execution_count": 106,
   "id": "f247939e",
   "metadata": {},
   "outputs": [],
   "source": [
    "min_sam_splt=grid.get_params(deep=True)['estimator__min_samples_split']"
   ]
  },
  {
   "cell_type": "code",
   "execution_count": 107,
   "id": "d478dd7d",
   "metadata": {},
   "outputs": [],
   "source": [
    "rf=RandomForestClassifier(n_estimators=n_est,min_samples_split=min_sam_splt)"
   ]
  },
  {
   "cell_type": "code",
   "execution_count": 108,
   "id": "0869f5b9",
   "metadata": {},
   "outputs": [
    {
     "data": {
      "text/plain": [
       "RandomForestClassifier(bootstrap=True, ccp_alpha=0.0, class_weight=None,\n",
       "                       criterion='gini', max_depth=None, max_features='auto',\n",
       "                       max_leaf_nodes=None, max_samples=None,\n",
       "                       min_impurity_decrease=0.0, min_impurity_split=None,\n",
       "                       min_samples_leaf=1, min_samples_split=2,\n",
       "                       min_weight_fraction_leaf=0.0, n_estimators=100,\n",
       "                       n_jobs=None, oob_score=False, random_state=None,\n",
       "                       verbose=0, warm_start=False)"
      ]
     },
     "execution_count": 108,
     "metadata": {},
     "output_type": "execute_result"
    }
   ],
   "source": [
    "rf.fit(corpus,df[\"Sentiment\"])"
   ]
  },
  {
   "cell_type": "code",
   "execution_count": 112,
   "id": "ca18cdab",
   "metadata": {},
   "outputs": [],
   "source": [
    "# Logging training parameters to AzureML and MLFlow experiments\n",
    "run.log(\"n_estimators\", grid.get_params(deep=True)['estimator__n_estimators'])\n",
    "run.log(\"min_samples_split\", grid.get_params(deep=True)['estimator__min_samples_split'])"
   ]
  },
  {
   "cell_type": "code",
   "execution_count": 113,
   "id": "bc080e1b",
   "metadata": {},
   "outputs": [],
   "source": [
    "run.complete()"
   ]
  },
  {
   "cell_type": "markdown",
   "id": "1f150734",
   "metadata": {},
   "source": [
    "# Model Packaging Step"
   ]
  },
  {
   "cell_type": "code",
   "execution_count": 114,
   "id": "2b81b0b6",
   "metadata": {},
   "outputs": [],
   "source": [
    "import joblib"
   ]
  },
  {
   "cell_type": "code",
   "execution_count": 115,
   "id": "79235d69",
   "metadata": {},
   "outputs": [
    {
     "data": {
      "text/plain": [
       "['outputs/count_vectorizer.pkl']"
      ]
     },
     "execution_count": 115,
     "metadata": {},
     "output_type": "execute_result"
    }
   ],
   "source": [
    "joblib.dump(cv,\"outputs/count_vectorizer.pkl\")"
   ]
  },
  {
   "cell_type": "code",
   "execution_count": 116,
   "id": "f71dc88b",
   "metadata": {},
   "outputs": [
    {
     "data": {
      "text/plain": [
       "['outputs/rf_sent_model.pkl']"
      ]
     },
     "execution_count": 116,
     "metadata": {},
     "output_type": "execute_result"
    }
   ],
   "source": [
    "joblib.dump(rf,\"outputs/rf_sent_model.pkl\")"
   ]
  },
  {
   "cell_type": "code",
   "execution_count": 117,
   "id": "3b461ac6",
   "metadata": {},
   "outputs": [
    {
     "data": {
      "text/plain": [
       "{\n",
       "    \"databricks\": {\n",
       "        \"eggLibraries\": [],\n",
       "        \"jarLibraries\": [],\n",
       "        \"mavenLibraries\": [],\n",
       "        \"pypiLibraries\": [],\n",
       "        \"rcranLibraries\": []\n",
       "    },\n",
       "    \"docker\": {\n",
       "        \"arguments\": [],\n",
       "        \"baseDockerfile\": null,\n",
       "        \"baseImage\": \"mcr.microsoft.com/azureml/openmpi3.1.2-ubuntu18.04:20210615.v1\",\n",
       "        \"baseImageRegistry\": {\n",
       "            \"address\": null,\n",
       "            \"password\": null,\n",
       "            \"registryIdentity\": null,\n",
       "            \"username\": null\n",
       "        },\n",
       "        \"enabled\": false,\n",
       "        \"platform\": {\n",
       "            \"architecture\": \"amd64\",\n",
       "            \"os\": \"Linux\"\n",
       "        },\n",
       "        \"sharedVolumes\": true,\n",
       "        \"shmSize\": null\n",
       "    },\n",
       "    \"environmentVariables\": {\n",
       "        \"EXAMPLE_ENV_VAR\": \"EXAMPLE_VALUE\"\n",
       "    },\n",
       "    \"inferencingStackVersion\": null,\n",
       "    \"name\": \"tutorial-env\",\n",
       "    \"python\": {\n",
       "        \"baseCondaEnvironment\": null,\n",
       "        \"condaDependencies\": {\n",
       "            \"channels\": [\n",
       "                \"anaconda\",\n",
       "                \"conda-forge\"\n",
       "            ],\n",
       "            \"dependencies\": [\n",
       "                \"python=3.6.2\",\n",
       "                {\n",
       "                    \"pip\": [\n",
       "                        \"azureml-dataset-runtime[pandas,fuse]~=1.32.0\",\n",
       "                        \"numpy\",\n",
       "                        \"joblib\",\n",
       "                        \"azureml-core~=1.32.0\",\n",
       "                        \"azureml-monitoring\",\n",
       "                        \"azureml-defaults~=1.32.0\",\n",
       "                        \"scikit-learn==0.20.3\",\n",
       "                        \"inference-schema[numpy-support]\"\n",
       "                    ]\n",
       "                },\n",
       "                \"scikit-learn==0.22.1\"\n",
       "            ],\n",
       "            \"name\": \"azureml_00d901051ae5a8d932340333624b8695\"\n",
       "        },\n",
       "        \"condaDependenciesFile\": null,\n",
       "        \"interpreterPath\": \"python\",\n",
       "        \"userManagedDependencies\": false\n",
       "    },\n",
       "    \"r\": null,\n",
       "    \"spark\": {\n",
       "        \"packages\": [],\n",
       "        \"precachePackages\": true,\n",
       "        \"repositories\": []\n",
       "    },\n",
       "    \"version\": \"6\"\n",
       "}"
      ]
     },
     "execution_count": 117,
     "metadata": {},
     "output_type": "execute_result"
    }
   ],
   "source": [
    "from azureml.core.environment import Environment\n",
    "from azureml.core.conda_dependencies import CondaDependencies\n",
    "\n",
    "# to install required packages\n",
    "env = Environment('tutorial-env')\n",
    "cd = CondaDependencies.create(pip_packages=['azureml-dataset-runtime[pandas,fuse]', 'azureml-defaults',\"numpy\",  \"joblib\", \"azureml-core\", \"azureml-monitoring\", \"azureml-defaults\", \"scikit-learn==0.20.3\", \"inference-schema\", \"inference-schema[numpy-support]\"], conda_packages = ['scikit-learn==0.22.1'])\n",
    "\n",
    "env.python.conda_dependencies = cd\n",
    "\n",
    "# Register environment to re-use later\n",
    "env.register(workspace = workspace)"
   ]
  },
  {
   "cell_type": "markdown",
   "id": "a1aed69c",
   "metadata": {},
   "source": [
    "# Model Registering Step"
   ]
  },
  {
   "cell_type": "code",
   "execution_count": 119,
   "id": "b9439440",
   "metadata": {},
   "outputs": [],
   "source": [
    "from azureml.core.model import Model"
   ]
  },
  {
   "cell_type": "code",
   "execution_count": 120,
   "id": "4ff8b685",
   "metadata": {},
   "outputs": [
    {
     "name": "stdout",
     "output_type": "stream",
     "text": [
      "Registering model nlp_count_vectorizer\n",
      "Name: nlp_count_vectorizer\n",
      "Version: 1\n"
     ]
    }
   ],
   "source": [
    "# Register Model on AzureML WS\n",
    "model = Model.register(model_path = './outputs/count_vectorizer.pkl', # this points to a local file \n",
    "                       model_name = \"nlp_count_vectorizer\", # this is the name the model is registered as\n",
    "                       tags = {'dataset': dataset.name, 'version': dataset.version, }, \n",
    "                       model_framework='pandas==0.23.4',\n",
    "                       description = \"Count Vectorizer\",\n",
    "                       workspace = workspace)\n",
    "\n",
    "print('Name:', model.name)\n",
    "print('Version:', model.version)"
   ]
  },
  {
   "cell_type": "code",
   "execution_count": 121,
   "id": "64a69ed2",
   "metadata": {},
   "outputs": [
    {
     "name": "stdout",
     "output_type": "stream",
     "text": [
      "Registering model nlp_rf_model\n",
      "Name: nlp_rf_model\n",
      "Version: 1\n"
     ]
    }
   ],
   "source": [
    "# Register Model on AzureML WS\n",
    "model = Model.register(model_path = './outputs/rf_sent_model.pkl', # this points to a local file \n",
    "                       model_name = \"nlp_rf_model\", # this is the name the model is registered as\n",
    "                       tags = {'dataset': dataset.name, 'version': dataset.version, }, \n",
    "                       model_framework='pandas==0.23.4',\n",
    "                       description = \"Random Forest Model\",\n",
    "                       workspace = workspace)\n",
    "\n",
    "print('Name:', model.name)\n",
    "print('Version:', model.version)"
   ]
  },
  {
   "cell_type": "code",
   "execution_count": null,
   "id": "d072b1f6",
   "metadata": {},
   "outputs": [],
   "source": []
  }
 ],
 "metadata": {
  "kernelspec": {
   "display_name": "Python 3.6 - AzureML",
   "language": "python",
   "name": "python3-azureml"
  },
  "language_info": {
   "codemirror_mode": {
    "name": "ipython",
    "version": 3
   },
   "file_extension": ".py",
   "mimetype": "text/x-python",
   "name": "python",
   "nbconvert_exporter": "python",
   "pygments_lexer": "ipython3",
   "version": "3.6.9"
  }
 },
 "nbformat": 4,
 "nbformat_minor": 5
}
